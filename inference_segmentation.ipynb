{
 "cells": [
  {
   "cell_type": "code",
   "execution_count": 1,
   "metadata": {},
   "outputs": [],
   "source": [
    "import numpy as np\n",
    "import torch\n",
    "import time\n",
    "from torchvision.models import *\n",
    "import pandas as pd\n",
    "import os\n",
    "import torchvision\n",
    "from torch2trt import torch2trt"
   ]
  },
  {
   "cell_type": "code",
   "execution_count": 2,
   "metadata": {},
   "outputs": [],
   "source": [
    "from torchvision.models.segmentation import *\n",
    "#deeplabv3_resnet50(pretrained=False,)"
   ]
  },
  {
   "cell_type": "code",
   "execution_count": 3,
   "metadata": {},
   "outputs": [],
   "source": [
    "FP32 = True\n",
    "FP16 = True\n",
    "INT8 = True"
   ]
  },
  {
   "cell_type": "code",
   "execution_count": 4,
   "metadata": {},
   "outputs": [],
   "source": [
    "# make results\n",
    "os.makedirs(\"results\", exist_ok=True)"
   ]
  },
  {
   "cell_type": "code",
   "execution_count": 5,
   "metadata": {},
   "outputs": [],
   "source": [
    "class ModelWrapper(torch.nn.Module):\n",
    "    def __init__(self, model):\n",
    "        super(ModelWrapper, self).__init__()\n",
    "        self.model = model\n",
    "    def forward(self, x):\n",
    "        return self.model(x)['out']"
   ]
  },
  {
   "cell_type": "code",
   "execution_count": 6,
   "metadata": {},
   "outputs": [],
   "source": [
    "def computeTime(model, input_size=[1, 3, 224, 224], device='cuda', FP16=False):\n",
    "    inputs = torch.randn(input_size)\n",
    "    if device == 'cuda':\n",
    "        model = model.cuda()\n",
    "        inputs = inputs.cuda()\n",
    "    if FP16:\n",
    "        model = model.half()\n",
    "        inputs = inputs.half()\n",
    "\n",
    "    model.eval()\n",
    "\n",
    "    i = 0\n",
    "    time_spent = []\n",
    "    while i < 200:\n",
    "        start_time = time.time()\n",
    "        with torch.no_grad():\n",
    "            _ = model(inputs)\n",
    "\n",
    "        if device == 'cuda':\n",
    "            torch.cuda.synchronize() # wait for cuda to finish (cuda is asynchronous!)\n",
    "        if i != 0:\n",
    "            time_spent.append(time.time() - start_time)\n",
    "        i += 1\n",
    "    print('Avg execution time (ms): {:.3f}'.format(np.mean(time_spent)))\n",
    "    return np.mean(time_spent)"
   ]
  },
  {
   "cell_type": "code",
   "execution_count": 7,
   "metadata": {},
   "outputs": [],
   "source": [
    "# resnet is enought for now\n",
    "modellist = [\"fcn_resnet50\", \"fcn_resnet101\", \"deeplabv3_resnet50\", \"deeplabv3_resnet101\"]"
   ]
  },
  {
   "cell_type": "code",
   "execution_count": null,
   "metadata": {
    "scrolled": false
   },
   "outputs": [
    {
     "name": "stdout",
     "output_type": "stream",
     "text": [
      "model: fcn_resnet50\n",
      "Avg execution time (ms): 0.216\n",
      "Avg execution time (ms): 0.174\n",
      "running fp16 models..\n"
     ]
    }
   ],
   "source": [
    "for i, model_name in enumerate(modellist):\n",
    "    runtimes = []\n",
    "\n",
    "    # define model\n",
    "    print(\"model: {}\".format(model_name))\n",
    "    input_size = [1, 3, 512, 512]\n",
    "    mdl = globals()[model_name]\n",
    "    model = mdl().cuda().eval()\n",
    "    # Run raw models\n",
    "    runtimes.append(computeTime(model, input_size=input_size, device=\"cuda\", FP16=False))\n",
    "\n",
    "    if FP32:    \n",
    "        mdl = globals()[model_name]\n",
    "        model = mdl().cuda().eval()\n",
    "        model_w = ModelWrapper(model)\n",
    "        x = torch.zeros(input_size).cuda()\n",
    "\n",
    "        # convert to tensorrt models\n",
    "        model_trt = torch2trt(model_w, [x])\n",
    "\n",
    "        # Run TensorRT models\n",
    "        runtimes.append(computeTime(model_trt, input_size=input_size, device=\"cuda\", FP16=False))\n",
    "    if FP16:\n",
    "        print(\"running fp16 models..\")\n",
    "        # Make FP16 tensorRT models\n",
    "        mdl = globals()[model_name]\n",
    "        model = mdl().eval().half().cuda()\n",
    "        model_w = ModelWrapper(model).half()\n",
    "        x = torch.zeros(input_size).half().cuda()\n",
    "        # convert to tensorrt models\n",
    "        model_trt = torch2trt(model_w, [x], fp16_mode=True)\n",
    "        # Run TensorRT models\n",
    "        runtimes.append(computeTime(model_trt, input_size=input_size, device=\"cuda\", FP16=True))\n",
    "\n",
    "        results.append({model_name: runtimes})\n",
    "    if INT8:\n",
    "        print(\"running int8 models..\")\n",
    "        # Make INT8 tensorRT models\n",
    "        mdl = globals()[model_name]\n",
    "        model = mdl().eval().half().cuda()\n",
    "        model_w = ModelWrapper(model).half()\n",
    "        x = torch.randn(input_size).half().cuda()\n",
    "        # convert to tensorrt models\n",
    "        model_trt = torch2trt(model_w, [x], fp16_mode=True, int8_mode=True, max_batch_size=1)\n",
    "\n",
    "        runtimes.append(computeTime(model_trt, input_size=input_size, device=\"cuda\", FP16=True))\n",
    "        results.append({model_name: runtimes})\n",
    "\n",
    "    if i == 0:\n",
    "        df = pd.DataFrame({model_name: runtimes},\n",
    "                         index = [\"Raw\", \"FP32\", \"FP16\", \"INT8\"])\n",
    "    else:\n",
    "        df[model_name] = runtimes"
   ]
  },
  {
   "cell_type": "code",
   "execution_count": null,
   "metadata": {},
   "outputs": [],
   "source": [
    "df.to_csv(\"results/xavier_segmentation.csv\")\n",
    "df"
   ]
  },
  {
   "cell_type": "code",
   "execution_count": null,
   "metadata": {},
   "outputs": [],
   "source": []
  }
 ],
 "metadata": {
  "kernelspec": {
   "display_name": "Python 3",
   "language": "python",
   "name": "python3"
  },
  "language_info": {
   "codemirror_mode": {
    "name": "ipython",
    "version": 3
   },
   "file_extension": ".py",
   "mimetype": "text/x-python",
   "name": "python",
   "nbconvert_exporter": "python",
   "pygments_lexer": "ipython3",
   "version": "3.6.9"
  }
 },
 "nbformat": 4,
 "nbformat_minor": 2
}
